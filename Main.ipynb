{
 "cells": [
  {
   "cell_type": "markdown",
   "id": "3f2d3d55",
   "metadata": {},
   "source": [
    "# IBM Qiskit 0.2 Developer Associate Exam Prep"
   ]
  },
  {
   "cell_type": "markdown",
   "id": "a6725d42",
   "metadata": {},
   "source": [
    "# Introduction: \n",
    "\n",
    "\n"
   ]
  },
  {
   "cell_type": "markdown",
   "id": "03926bad",
   "metadata": {},
   "source": [
    "# Pre-requesites "
   ]
  },
  {
   "cell_type": "markdown",
   "id": "979123a9",
   "metadata": {},
   "source": [
    "## 1. Topics "
   ]
  },
  {
   "cell_type": "markdown",
   "id": "38f6cefe",
   "metadata": {},
   "source": [
    "* Qiskit API and SDK Overview: How Qiskit API as whole is organized \n",
    "* IBMQ Overview\n",
    "  - IBM Composer \n",
    "  - IBM Quantum Lab\n",
    "* Navigating Qiskit Documentation Page  \n",
    "\n",
    "* Single qubit Quantum Gates\n",
    "* Two Qubit Quantum Gates\n",
    "* Visualization "
   ]
  },
  {
   "cell_type": "markdown",
   "id": "09a04da3",
   "metadata": {},
   "source": [
    "# 2. How to prepare:  "
   ]
  },
  {
   "cell_type": "markdown",
   "id": "d5971b43",
   "metadata": {},
   "source": [
    "# 3. Sample Questions: \n"
   ]
  },
  {
   "cell_type": "code",
   "execution_count": null,
   "id": "f72b36ae",
   "metadata": {},
   "outputs": [],
   "source": []
  }
 ],
 "metadata": {
  "kernelspec": {
   "display_name": "qcourse511",
   "language": "python",
   "name": "qcourse511"
  },
  "language_info": {
   "codemirror_mode": {
    "name": "ipython",
    "version": 3
   },
   "file_extension": ".py",
   "mimetype": "text/x-python",
   "name": "python",
   "nbconvert_exporter": "python",
   "pygments_lexer": "ipython3",
   "version": "3.10.5"
  }
 },
 "nbformat": 4,
 "nbformat_minor": 5
}
